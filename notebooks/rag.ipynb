{
 "cells": [
  {
   "cell_type": "markdown",
   "metadata": {},
   "source": [
    "# RAG"
   ]
  },
  {
   "cell_type": "markdown",
   "metadata": {},
   "source": [
    "## Load model"
   ]
  },
  {
   "cell_type": "code",
   "execution_count": 1,
   "metadata": {},
   "outputs": [
    {
     "name": "stderr",
     "output_type": "stream",
     "text": [
      "/Users/naowak/Thesis/code/SummaTalk/.venv/lib/python3.11/site-packages/tqdm/auto.py:21: TqdmWarning: IProgress not found. Please update jupyter and ipywidgets. See https://ipywidgets.readthedocs.io/en/stable/user_install.html\n",
      "  from .autonotebook import tqdm as notebook_tqdm\n",
      "No sentence-transformers model found with name flaubert/flaubert_base_uncased. Creating a new one with MEAN pooling.\n"
     ]
    }
   ],
   "source": [
    "from sentence_transformers import SentenceTransformer\n",
    "model = SentenceTransformer('flaubert/flaubert_base_uncased')"
   ]
  },
  {
   "cell_type": "markdown",
   "metadata": {},
   "source": [
    "## Convert text to embeddings"
   ]
  },
  {
   "cell_type": "code",
   "execution_count": 2,
   "metadata": {},
   "outputs": [
    {
     "name": "stderr",
     "output_type": "stream",
     "text": [
      "/var/folders/_8/z8rcf_ns4k9f2rw5zchj85mw0000gn/T/ipykernel_21580/1964331462.py:2: DeprecationWarning: \n",
      "Pyarrow will become a required dependency of pandas in the next major release of pandas (pandas 3.0),\n",
      "(to allow more performant data types, such as the Arrow string type, and better interoperability with other libraries)\n",
      "but was not found to be installed on your system.\n",
      "If this would cause problems for you,\n",
      "please provide us feedback at https://github.com/pandas-dev/pandas/issues/54466\n",
      "        \n",
      "  import pandas as pd\n"
     ]
    },
    {
     "data": {
      "text/html": [
       "<div>\n",
       "<style scoped>\n",
       "    .dataframe tbody tr th:only-of-type {\n",
       "        vertical-align: middle;\n",
       "    }\n",
       "\n",
       "    .dataframe tbody tr th {\n",
       "        vertical-align: top;\n",
       "    }\n",
       "\n",
       "    .dataframe thead th {\n",
       "        text-align: right;\n",
       "    }\n",
       "</style>\n",
       "<table border=\"1\" class=\"dataframe\">\n",
       "  <thead>\n",
       "    <tr style=\"text-align: right;\">\n",
       "      <th></th>\n",
       "      <th>embedding</th>\n",
       "      <th>filename</th>\n",
       "      <th>text</th>\n",
       "      <th>index</th>\n",
       "    </tr>\n",
       "  </thead>\n",
       "  <tbody>\n",
       "    <tr>\n",
       "      <th>0</th>\n",
       "      <td>[0.7117877, 0.52825713, -0.50514823, -0.008762...</td>\n",
       "      <td>thinkerview-2</td>\n",
       "      <td>Musique\\n  ...\\n  Messieurs bonjour, nous vou...</td>\n",
       "      <td>0</td>\n",
       "    </tr>\n",
       "    <tr>\n",
       "      <th>1</th>\n",
       "      <td>[0.75147784, 0.33859283, -0.5631464, 0.1059062...</td>\n",
       "      <td>thinkerview-2</td>\n",
       "      <td>Bonjour.\\n  Nicolas Méian, présentez-vous suc...</td>\n",
       "      <td>1</td>\n",
       "    </tr>\n",
       "    <tr>\n",
       "      <th>2</th>\n",
       "      <td>[0.6059554, 0.471013, -0.52761763, 0.27381724,...</td>\n",
       "      <td>thinkerview-2</td>\n",
       "      <td>Bonjour, Francis Perrin. Je dirige une sociét...</td>\n",
       "      <td>2</td>\n",
       "    </tr>\n",
       "    <tr>\n",
       "      <th>3</th>\n",
       "      <td>[0.68403167, 0.23477107, -0.6883479, 0.1858753...</td>\n",
       "      <td>thinkerview-2</td>\n",
       "      <td>Accessoirement l'auteur d'un ouvrage sur la g...</td>\n",
       "      <td>3</td>\n",
       "    </tr>\n",
       "    <tr>\n",
       "      <th>4</th>\n",
       "      <td>[0.71725535, 0.41893554, -0.3627441, 0.3586545...</td>\n",
       "      <td>thinkerview-2</td>\n",
       "      <td>Il y a plusieurs géopolitiques et plusieurs p...</td>\n",
       "      <td>4</td>\n",
       "    </tr>\n",
       "  </tbody>\n",
       "</table>\n",
       "</div>"
      ],
      "text/plain": [
       "                                           embedding       filename  \\\n",
       "0  [0.7117877, 0.52825713, -0.50514823, -0.008762...  thinkerview-2   \n",
       "1  [0.75147784, 0.33859283, -0.5631464, 0.1059062...  thinkerview-2   \n",
       "2  [0.6059554, 0.471013, -0.52761763, 0.27381724,...  thinkerview-2   \n",
       "3  [0.68403167, 0.23477107, -0.6883479, 0.1858753...  thinkerview-2   \n",
       "4  [0.71725535, 0.41893554, -0.3627441, 0.3586545...  thinkerview-2   \n",
       "\n",
       "                                                text  index  \n",
       "0   Musique\\n  ...\\n  Messieurs bonjour, nous vou...      0  \n",
       "1   Bonjour.\\n  Nicolas Méian, présentez-vous suc...      1  \n",
       "2   Bonjour, Francis Perrin. Je dirige une sociét...      2  \n",
       "3   Accessoirement l'auteur d'un ouvrage sur la g...      3  \n",
       "4   Il y a plusieurs géopolitiques et plusieurs p...      4  "
      ]
     },
     "execution_count": 2,
     "metadata": {},
     "output_type": "execute_result"
    }
   ],
   "source": [
    "import os\n",
    "import pandas as pd\n",
    "\n",
    "dir = '../texts/'\n",
    "texts_files = os.listdir(dir) \n",
    "texts_embeddings = []\n",
    "NB_LINES_PER_CHUNK = 50\n",
    "\n",
    "for text in texts_files:\n",
    "    # Read the text file\n",
    "    with open(dir+text, 'r') as file:\n",
    "        data = file.readlines()\n",
    "    \n",
    "    # Split the text into chunks of 5 lines\n",
    "    chunks = [' '.join(data[i:i+NB_LINES_PER_CHUNK]) for i in range(0, len(data), 5)]\n",
    "    embeddings = model.encode(chunks)\n",
    "\n",
    "    # Store the embeddings\n",
    "    for i, embed in enumerate(embeddings):\n",
    "        entry = {\n",
    "            'embedding': list(embed),\n",
    "            'filename': text.split('.')[0],\n",
    "            'text': chunks[i],\n",
    "            'index': i,\n",
    "        }\n",
    "        texts_embeddings.append(entry)\n",
    "\n",
    "df = pd.DataFrame(texts_embeddings)\n",
    "df.to_csv('rag_db.csv', index=False)\n",
    "df.head()"
   ]
  },
  {
   "cell_type": "markdown",
   "metadata": {},
   "source": [
    "## Find closest chunks"
   ]
  },
  {
   "cell_type": "code",
   "execution_count": 76,
   "metadata": {},
   "outputs": [],
   "source": [
    "from sklearn.metrics.pairwise import cosine_similarity\n",
    "\n",
    "# Load the vectorized database\n",
    "df = pd.read_csv('rag_db.csv')\n",
    "df.embedding = df.embedding.apply(lambda x: eval(x))\n",
    "\n",
    "def find_closest_chunk(query, df, model, n=1):\n",
    "    query_embedding = model.encode([query])[0]\n",
    "    similarity = df.embedding.apply(lambda x: cosine_similarity([query_embedding], [x])[0][0])\n",
    "    ids = similarity.sort_values(ascending=False).head(10)\n",
    "    return df.loc[ids.index].text.tolist()"
   ]
  },
  {
   "cell_type": "code",
   "execution_count": 77,
   "metadata": {},
   "outputs": [
    {
     "data": {
      "text/plain": [
       "[\" C'est assez flippant et très peu abordé.\\n  Et vous pouvez voir une démonstration pour vous faire un avis\\n  dans cette vidéo.\\n  Sous-titrage Société Radio-Canada\",\n",
       " \" soit pour se balader sur Internet ou se connecter à vos mails,\\n  vos documents, etc.\\n  Le truc, c'est que beaucoup de gens ne réalisent pas\\n  qu'il y a une vulnérabilité, une faille de sécurité\\n  intrinsèque aux modèles de langage.\\n  C'est assez flippant et très peu abordé.\\n  Et vous pouvez voir une démonstration pour vous faire un avis\\n  dans cette vidéo.\\n  Sous-titrage Société Radio-Canada\",\n",
       " \" Et surtout, merci d'avoir regardé jusqu'au bout.\\n  Bye bye.\",\n",
       " \" Oh putain\\n  Moi je m'en aurais rentré dedans\\n  Drama\\n  Drama\\n  Intelligence\\n  Le retour\\n  T'as l'entre deux\\n  T'as 12 extrêmes\\n  T'as Basti\\n  Qui est un espèce d'emoji\\n  Souriant sur patte\\n  Et qui est gentil avec tout le monde\\n  T'as\\n  De l'autre côté extrême du cercle\\n  T'as Anis\\n  Dont le but dans sa carrière\\n  C'est de speedrun\\n  Le fait de\\n  S'engueuler avec le plus de gens possible\\n  Dans le milieu\\n  Et après t'as moi\\n  Qui est\\n  Franchement ça dépend de la gueule du client\\n  J'en sais\\n  Mais attends\\n  Je vous montre un truc du coup\\n  Attends\\n  Je lance le squad\\n  Defend\\n  J'ai lancé\\n  Normalement\\n  Slash squad\\n  Après votre streamer préféré\\n  Vous nous voyez tous les trois\\n  Ok bien joué\\n  Sur un magnifique écran\\n  Attends on peut\\n  Y'a une commande\\n  Slash squad pour les viewers\\n  Non non\\n  C'est juste\\n  Twitch.tv\\n  Slash je sais pas moi\\n  Ardis\\n  Slash squad\\n  Ah oui\\n  Bah sinon tu fais F5\\n  Sur n'importe lequel de nos streams\\n  Et t'as le\\n  Oui ça le bouton qui est vrai\\n\",\n",
       " \" Je vous montre un truc du coup\\n  Attends\\n  Je lance le squad\\n  Defend\\n  J'ai lancé\\n  Normalement\\n  Slash squad\\n  Après votre streamer préféré\\n  Vous nous voyez tous les trois\\n  Ok bien joué\\n  Sur un magnifique écran\\n  Attends on peut\\n  Y'a une commande\\n  Slash squad pour les viewers\\n  Non non\\n  C'est juste\\n  Twitch.tv\\n  Slash je sais pas moi\\n  Ardis\\n  Slash squad\\n  Ah oui\\n  Bah sinon tu fais F5\\n  Sur n'importe lequel de nos streams\\n  Et t'as le\\n  Oui ça le bouton qui est vrai\\n  Regarde je vais vous montrer un truc\\n  Partage d'écran\\n  Activer\\n  Activer les amis sur\\n  L'outil habituel\\n  Ok\\n  Regardez\\n  Excusez moi\\n  J'ai eu la tête qui tombe\\n  Pour l'espace d'un instant\\n  Je croyais que j'allais tomber par terre\\n  Waouh\\n  Ça va ?\\n  T'as trop crié mon pote\\n  J'ai fait une baisse de tension\\n  L'espace d'un instant\\n  WTF\\n  Ardis t'as trop crié\\n  Ouais mec t'as trop crié aussi\\n  J'ai l'impression\\n  Qu'on a repris un rail là\\n  Tu sais genre\\n  Ah fleurie michon\\n  Salut\\n  Il nous a pété une durite\\n\",\n",
       " \" C'est tout simplement fou.\\n  Évidemment, ces nouveautés sont très réjouissantes,\\n  mais j'aimerais amener un petit bémol.\\n  Toutes ces IA sont de plus en plus utilisées\\n  pour les connecter à des plugins,\\n  soit pour se balader sur Internet ou se connecter à vos mails,\\n  vos documents, etc.\\n  Le truc, c'est que beaucoup de gens ne réalisent pas\\n  qu'il y a une vulnérabilité, une faille de sécurité\\n  intrinsèque aux modèles de langage.\\n  C'est assez flippant et très peu abordé.\\n  Et vous pouvez voir une démonstration pour vous faire un avis\\n  dans cette vidéo.\\n  Sous-titrage Société Radio-Canada\",\n",
       " \" Mais t'écris\\n  Red by SFR\\n  Red R-I-D-E\\n  Enfin j'étais insupportable\\n  Tu vois\\n  Donc c'était du tweet troll\\n  Mais moi j'adore\\n  Engrainer les CM comme ça\\n  Avec des messages\\n  Beaucoup trop corporate\\n  Tu vois\\n  Attends du coup\\n  Moi je veux savoir\\n  Ce qui s'est passé en DM ensuite\\n  Bah j'ai pas eu de DM\\n  Ah oui\\n  Ah merde\\n  Ah ouais ça se finit mal\\n  Ils t'ont pas répondu ?\\n  Euh non\\n  Ça s'est terminé comme ça\\n  Avec Clara\\n  Malheureusement\\n  Vous êtes prêts\\n  Pour faire le petit\\n  Un loot en or ou pas ?\\n  Ah moi je veux commencer\\n  Par le jeu\\n  Parce que j'adore\\n  Et à chaque fois que tu fais des jeux\\n  Ils sont trop bien\\n  Ok juste avant\\n  Vous dites\\n  Quelle news vous faites chacun ?\\n  Ouais avec plaisir si tu veux\\n  Moi je vais parler\\n  D'une faille de sécurité\\n  Coucou Abidazi\\n  Merci Antolzbach\\n  Pour ton abonnement\\n  Et qui a mené à des catastrophes\\n  Et ce logiciel\\n  C'est Mario Kart\\n  Sérieux ?\\n  Ouais\\n  Mais je possède Mario Kart\\n  Je me sens concerné\\n  Eh bah oui\\n  Oh mon dieu\\n  Mais je vais donc rester\\n\",\n",
       " \" Ou à une époque où ça marchait bien.\\n  Ils réessaient aujourd'hui, ça marche beaucoup moins bien.\\n  Ce qui se produit souvent, c'est que pour rendre l'IA safe,\\n  pour éviter qu'elle vienne titiller la sensibilité de quiconque,\\n  Politiquement correcte.\\n  Exactement.\\n  On a besoin de les contraindre pour qu'elle réponde\\n  « Je suis une IA, je ne peux pas faire de mal » ou des trucs comme ça.\\n  À chaque fois qu'on contraint un modèle à être safe,\\n  on le rend moins performant.\\n  C'est une constante.\\n  C'est-à-dire qu'on l'observe absolument partout.\\n  L'un et l'autre sont un trade-off.\\n  C'est toujours une balance.\\n  Du coup, un exemple frappant que j'ai vu,\\n  c'est par exemple un exercice de codage en Python.\\n  La demande qui a été formulée à Mixtral d'un côté et à GPT-4,\\n  c'était écrire un script qui peut rentrer un fichier CSV complet\\n  qui fait un milliard de lignes dans une base de données SQL.\\n  Pas besoin de comprendre vraiment l'énoncé.\\n  Dites-vous juste que c'est un problème de programmation non trivial.\\n  En gros, c'est un bon moyen de vérifier si vous avez en face de vous\\n  un élève de 3e ou un PhD.\\n  Parce que la bonne réponse, en fait,\\n  c'est que tu ne peux pas simplement faire une boucle\\n  sur l'ensemble des entrées du CSV\\n  et les rentrées dans une base de données.\\n  Il n'y a aucun système.\\n  Tu n'as pas besoin de contexte supplémentaire\\n  pour savoir que c'est juste impossible.\\n  Il te faut une manière d'approcher le problème plus intelligente.\\n  Tu fonctionnes avec des batchs.\\n  Tu fais attention à la gestion de ta mémoire vive, des choses comme ça.\\n  Et il fait la démonstration et montre que d'un côté,\\n  dans l'interface de ChatGPT,\\n  dans la version 4,\\n  qu'il est complètement à côté de la plaque,\\n  qu'il bullshite des trucs qui ne servent absolument à rien.\\n  Il passe son temps à te dire\\n  « Non, mais ça, implémente-le toi-même. Commentaire. »\\n  Bon, ça, c'est quand même un peu trop compliqué, cette boucle.\\n  Donc, ça demanderait beaucoup plus d'investigation.\\n  Tu vois, pas hyper pertinent.\\n  Tu as besoin de lui reposer des questions en mode\\n  « Non, non, mais vraiment, donne-moi le script complet\\n  qui répond à l'énoncé. »\\n  Et là, il finit par y arriver.\\n  Preuve qu'il n'est pas con, juste qu'il est devenu paresseux.\\n  La même demande posée à Mistral Medium.\\n  Et il te pond une réponse, mais...\\n\",\n",
       " \" Et plutôt me faire des amis\\n  Que des ennemis\\n  Non mais en vrai\\n  C'est toi qui as raison\\n  De toute façon\\n  Defend\\n  Il s'engueule avec qui il peut\\n  Quand il peut\\n  C'est à quoi j'ai répondu\\n  C'est à quoi j'ai répondu\\n  Oh putain\\n  Moi je m'en aurais rentré dedans\\n  Drama\\n  Drama\\n  Intelligence\\n  Le retour\\n  T'as l'entre deux\\n  T'as 12 extrêmes\\n  T'as Basti\\n  Qui est un espèce d'emoji\\n  Souriant sur patte\\n  Et qui est gentil avec tout le monde\\n  T'as\\n  De l'autre côté extrême du cercle\\n  T'as Anis\\n  Dont le but dans sa carrière\\n  C'est de speedrun\\n  Le fait de\\n  S'engueuler avec le plus de gens possible\\n  Dans le milieu\\n  Et après t'as moi\\n  Qui est\\n  Franchement ça dépend de la gueule du client\\n  J'en sais\\n  Mais attends\\n  Je vous montre un truc du coup\\n  Attends\\n  Je lance le squad\\n  Defend\\n  J'ai lancé\\n  Normalement\\n  Slash squad\\n  Après votre streamer préféré\\n  Vous nous voyez tous les trois\\n  Ok bien joué\\n  Sur un magnifique écran\\n  Attends on peut\\n  Y'a une commande\\n  Slash squad pour les viewers\\n  Non non\\n\",\n",
       " \" Ok\\n  Regardez\\n  Excusez moi\\n  J'ai eu la tête qui tombe\\n  Pour l'espace d'un instant\\n  Je croyais que j'allais tomber par terre\\n  Waouh\\n  Ça va ?\\n  T'as trop crié mon pote\\n  J'ai fait une baisse de tension\\n  L'espace d'un instant\\n  WTF\\n  Ardis t'as trop crié\\n  Ouais mec t'as trop crié aussi\\n  J'ai l'impression\\n  Qu'on a repris un rail là\\n  Tu sais genre\\n  Ah fleurie michon\\n  Salut\\n  Il nous a pété une durite\\n  Faites pas fleurie michon\\n  C'est polyakov\\n  Ok\\n  La huile d'alcool est dangereuse\\n  Pour la santé\\n  Attends je vais vous mettre\\n  Je suis un bon gars\\n  Je vous mets mon twitter en noir\\n  En dark\\n  Alors fais voir\\n  On a découvert des pépites sur Twitch\\n  Oui bah parce qu'il peut streamer\\n  Vu qu'il est pas chez vous\\n  Bah si je suis chez SFR en plus\\n  Non mais je suis chez SFR\\n  Ouais\\n  Et du coup\\n  Nous on a tellement de merde avec eux\\n  Et en plus\\n  J'avais eu un bug SFR\\n  Il y a pas longtemps\\n  Et du coup j'ai mis\\n  Live Twitch diffusé\\n  Par le biais de ma connexion\\n  SFR Fibre bien sûr\\n  J'ai mis ça tu vois\\n  Et attention\\n  Tu t'attendras pas\\n  Oh mais t'es vraiment\\n  Une pute à buzz\\n\"]"
      ]
     },
     "execution_count": 77,
     "metadata": {},
     "output_type": "execute_result"
    }
   ],
   "source": [
    "find_closest_chunk(\"L'intelligence artificielle au service de l'humanité\", df, model)"
   ]
  },
  {
   "cell_type": "code",
   "execution_count": null,
   "metadata": {},
   "outputs": [],
   "source": []
  }
 ],
 "metadata": {
  "kernelspec": {
   "display_name": ".venv",
   "language": "python",
   "name": "python3"
  },
  "language_info": {
   "codemirror_mode": {
    "name": "ipython",
    "version": 3
   },
   "file_extension": ".py",
   "mimetype": "text/x-python",
   "name": "python",
   "nbconvert_exporter": "python",
   "pygments_lexer": "ipython3",
   "version": "3.11.6"
  }
 },
 "nbformat": 4,
 "nbformat_minor": 2
}
