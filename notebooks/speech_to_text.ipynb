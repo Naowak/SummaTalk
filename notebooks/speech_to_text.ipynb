{
 "cells": [
  {
   "cell_type": "markdown",
   "metadata": {},
   "source": [
    "### Convert video to audio (if needed)"
   ]
  },
  {
   "cell_type": "code",
   "execution_count": null,
   "metadata": {},
   "outputs": [],
   "source": [
    "# Converts video to audio directly using `ffmpeg` command with the help of subprocess module\n",
    "\n",
    "import subprocess\n",
    "import os\n",
    "import sys\n",
    "\n",
    "VIDEO_FILENAME = \"video.mp4\"\n",
    "OUTPUT_EXT = \"mp3\"\n",
    "\n",
    "subprocess.call([\"ffmpeg\", \"-y\", \"-i\", VIDEO_FILENAME, f\"audio.{OUTPUT_EXT}\"], \n",
    "    stdout=subprocess.DEVNULL,\n",
    "    stderr=subprocess.STDOUT)\n",
    "\n",
    "print(\"Audio extracted into audio.\" + OUTPUT_EXT)"
   ]
  },
  {
   "cell_type": "markdown",
   "metadata": {},
   "source": [
    "### Convert .m4a into .mp3"
   ]
  },
  {
   "cell_type": "code",
   "execution_count": null,
   "metadata": {},
   "outputs": [],
   "source": [
    "import subprocess\n",
    "\n",
    "input_file = \"data/record.m4a\"\n",
    "output_file = \"data/record.mp3\"\n",
    "\n",
    "subprocess.call([\"ffmpeg\", \"-i\", input_file, output_file])"
   ]
  },
  {
   "cell_type": "markdown",
   "metadata": {},
   "source": [
    "### Transcript audio with whisper (localy)"
   ]
  },
  {
   "cell_type": "code",
   "execution_count": 3,
   "metadata": {},
   "outputs": [
    {
     "name": "stderr",
     "output_type": "stream",
     "text": [
      "/Users/naowak/Thesis/code/SummaTalk/.venv/lib/python3.11/site-packages/whisper/transcribe.py:115: UserWarning: FP16 is not supported on CPU; using FP32 instead\n",
      "  warnings.warn(\"FP16 is not supported on CPU; using FP32 instead\")\n"
     ]
    },
    {
     "name": "stdout",
     "output_type": "stream",
     "text": [
      "Transcription saved in .txt\n"
     ]
    }
   ],
   "source": [
    "# Download the whisper model (if not downloaded yet)\n",
    "# Then transcribe the audio file\n",
    "\n",
    "import whisper\n",
    "\n",
    "# if FILENAME is empty, use default audio.mp3 file in the root system\n",
    "FILENAME = \"../data/thinkerview-1.mp3\" \n",
    "input = FILENAME\n",
    "output = FILENAME[:-4] + \".txt\"\n",
    "\n",
    "# run the model to transcript\n",
    "model = whisper.load_model(\"large-v3\")\n",
    "result = model.transcribe(input, language='fr')\n",
    "\n",
    "with open(output, \"w\") as f:\n",
    "    f.write(\"\\n\".join(s['text'] for s in result['segments']))\n",
    "\n",
    "print(f'Transcription saved in {output}')"
   ]
  },
  {
   "cell_type": "code",
   "execution_count": null,
   "metadata": {},
   "outputs": [],
   "source": []
  }
 ],
 "metadata": {
  "kernelspec": {
   "display_name": "venv",
   "language": "python",
   "name": "python3"
  },
  "language_info": {
   "codemirror_mode": {
    "name": "ipython",
    "version": 3
   },
   "file_extension": ".py",
   "mimetype": "text/x-python",
   "name": "python",
   "nbconvert_exporter": "python",
   "pygments_lexer": "ipython3",
   "version": "3.11.6"
  },
  "orig_nbformat": 4
 },
 "nbformat": 4,
 "nbformat_minor": 2
}
