{
 "cells": [
  {
   "cell_type": "markdown",
   "metadata": {},
   "source": [
    "### Convert video to audio (if needed)"
   ]
  },
  {
   "cell_type": "code",
   "execution_count": null,
   "metadata": {},
   "outputs": [],
   "source": [
    "# Converts video to audio directly using `ffmpeg` command with the help of subprocess module\n",
    "\n",
    "import subprocess\n",
    "import os\n",
    "import sys\n",
    "\n",
    "VIDEO_FILENAME = \"video.mp4\"\n",
    "OUTPUT_EXT = \"mp3\"\n",
    "\n",
    "subprocess.call([\"ffmpeg\", \"-y\", \"-i\", VIDEO_FILENAME, f\"audio.{OUTPUT_EXT}\"], \n",
    "    stdout=subprocess.DEVNULL,\n",
    "    stderr=subprocess.STDOUT)\n",
    "\n",
    "print(\"Audio extracted into audio.\" + OUTPUT_EXT)"
   ]
  },
  {
   "cell_type": "markdown",
   "metadata": {},
   "source": [
    "### Convert .m4a into .mp3"
   ]
  },
  {
   "cell_type": "code",
   "execution_count": null,
   "metadata": {},
   "outputs": [],
   "source": [
    "import subprocess\n",
    "\n",
    "input_file = \"data/record.m4a\"\n",
    "output_file = \"data/record.mp3\"\n",
    "\n",
    "subprocess.call([\"ffmpeg\", \"-i\", input_file, output_file])"
   ]
  },
  {
   "cell_type": "markdown",
   "metadata": {},
   "source": [
    "### Transcript audio with whisper (localy)"
   ]
  },
  {
   "cell_type": "code",
   "execution_count": 3,
   "metadata": {},
   "outputs": [
    {
     "name": "stderr",
     "output_type": "stream",
     "text": [
      "/Users/naowak/Thesis/code/mnemosyne-meetings/venv/lib/python3.11/site-packages/whisper/transcribe.py:115: UserWarning: FP16 is not supported on CPU; using FP32 instead\n",
      "  warnings.warn(\"FP16 is not supported on CPU; using FP32 instead\")\n"
     ]
    },
    {
     "name": "stdout",
     "output_type": "stream",
     "text": [
      "Transcription saved in records/attention_group/#3/record.txt\n"
     ]
    }
   ],
   "source": [
    "# Download the whisper model (if not downloaded yet)\n",
    "# Then transcribe the audio file\n",
    "\n",
    "import whisper\n",
    "\n",
    "# if FILENAME is empty, use default audio.mp3 file in the root system\n",
    "FILENAME = \"data/record.mp3\" \n",
    "input = FILENAME\n",
    "output = FILENAME.split(\".\")[0] + \".txt\"\n",
    "\n",
    "# run the model to transcript\n",
    "model = whisper.load_model(\"large-v3\")\n",
    "result = model.transcribe(input, language='fr')\n",
    "\n",
    "with open(output, \"w\") as f:\n",
    "    f.write(\"\\n\".join(s['text'] for s in result['segments']))\n",
    "\n",
    "print(f'Transcription saved in {output}')"
   ]
  },
  {
   "cell_type": "markdown",
   "metadata": {},
   "source": [
    "### Use Llama.cpp to generate summary of meetings (localy)"
   ]
  },
  {
   "cell_type": "code",
   "execution_count": null,
   "metadata": {},
   "outputs": [],
   "source": [
    "from langchain.llms import LlamaCpp\n",
    "from langchain.callbacks.manager import CallbackManager\n",
    "from langchain.callbacks.streaming_stdout import StreamingStdOutCallbackHandler\n",
    "\n",
    "# Callbacks support token-wise streaming\n",
    "#callback_manager = CallbackManager([StreamingStdOutCallbackHandler()])\n",
    "\n",
    "# Create the LlamaCpp object\n",
    "llm = LlamaCpp(\n",
    "    model_path=\"./models/mistral-7b-instruct-v0.2.Q4_K_M.gguf\",\n",
    "    temperature=0.75,\n",
    "    top_p=1,\n",
    "    top_k=50,\n",
    "    max_tokens=4096,\n",
    "    n_ctx=4096,\n",
    "    n_gpu_layer=1024,\n",
    "    #callback_manager=callback_manager, \n",
    "    #verbose=True, # Verbose is required to pass to the callback manager\n",
    "    #repeat_penalty=1.1,\n",
    "    #frequency_penalty=0,\n",
    "    #presence_penalty=0,\n",
    ")"
   ]
  },
  {
   "cell_type": "code",
   "execution_count": null,
   "metadata": {},
   "outputs": [],
   "source": [
    "import numpy as np\n",
    "\n",
    "# Function that use LLM to summarize text\n",
    "def summarize(text):\n",
    "    instruction = (\n",
    "       \"You are an expert in summarising meetings and create reports.\"\n",
    "       \"Provide a short summary of the previous text.\\n\"\n",
    "       \"Provide your answer in english.\\n\"\n",
    "       \"Please consider that the previous text may contains transcription errors.\"    \n",
    "    )\n",
    "    template = (\n",
    "        f\"[INST]{text}\\n\\n{instruction} [/INST]\\n\"\n",
    "        \"Sure, here's a short summary of the previous text:\\n\\n\"\n",
    "    )\n",
    "    return llm(template)\n",
    "\n",
    "# Define filenames\n",
    "FILENAME = \"data/record.txt\"\n",
    "OUTPUT = FILENAME.split(\".\")[0] + \"-summary.txt\"\n",
    "\n",
    "# Open transcription file and extract text\n",
    "with open(FILENAME, 'r') as f:\n",
    "    text = f.read()\n",
    "\n",
    "# Split text into chunks of 80 lines and summarize each chunk\n",
    "summaries = []\n",
    "lines = text.split('\\n')\n",
    "nb_lines = len(lines)\n",
    "chunk_size = 80\n",
    "nb_chunks = int(np.ceil(nb_lines / chunk_size))\n",
    "for i in range(nb_chunks):\n",
    "    chunk = lines[i*chunk_size:(i+1)*chunk_size]\n",
    "    summary = summarize(chunk)\n",
    "    summaries.append(summary)\n",
    "    print(summary)\n",
    "\n",
    "# Save summaries into a file\n",
    "with open(OUTPUT, \"w+\") as f:\n",
    "    f.write(\"\\n\".join(summaries))"
   ]
  },
  {
   "cell_type": "code",
   "execution_count": null,
   "metadata": {},
   "outputs": [],
   "source": [
    "# Function that uses LLM to make a meeting report of the summary\n",
    "def make_meeting_report(summary):\n",
    "    instruction = (\n",
    "       \"You are an expert in making proper meeting report. The following is a summary of a meeting and some instructions to follow.\"\n",
    "       \"Provide a meeting report based on the previous text.\\n\"\n",
    "       \"Please consider all agenda items that were discussed in the whole text and list them in the report.\\n\"\n",
    "       \"I want the report to looks like a formal report.\"\n",
    "       #\"Please consider that the preivous text may contains transcription errors, fix them to make the report clearer.\"    \n",
    "    )\n",
    "    template = (\n",
    "        f\"[INST]{summary}\\n\\n{instruction} [/INST]\\n\"\n",
    "        \"Sure, here's a meeting report based on the previous summary:\\n\\n\"\n",
    "    )\n",
    "    return llm(template)\n",
    "\n",
    "# Define file names\n",
    "FILENAME = \"data/record-summary.txt\"\n",
    "OUTPUT = FILENAME[:-18] + \"meeting-report.txt\"\n",
    "\n",
    "# Open summary file and extract text\n",
    "with open(FILENAME, 'r') as f:\n",
    "    summary = f.read()\n",
    "\n",
    "# Make meeting report\n",
    "report = make_meeting_report(summary)\n",
    "print(report)\n",
    "\n",
    "# Save report into a file\n",
    "with open(OUTPUT, \"w+\") as f:\n",
    "    f.write(report)\n"
   ]
  },
  {
   "cell_type": "code",
   "execution_count": null,
   "metadata": {},
   "outputs": [],
   "source": []
  }
 ],
 "metadata": {
  "kernelspec": {
   "display_name": "venv",
   "language": "python",
   "name": "python3"
  },
  "language_info": {
   "codemirror_mode": {
    "name": "ipython",
    "version": 3
   },
   "file_extension": ".py",
   "mimetype": "text/x-python",
   "name": "python",
   "nbconvert_exporter": "python",
   "pygments_lexer": "ipython3",
   "version": "3.11.6"
  },
  "orig_nbformat": 4
 },
 "nbformat": 4,
 "nbformat_minor": 2
}
